{
 "cells": [
  {
   "cell_type": "markdown",
   "metadata": {},
   "source": [
    "# Identifying Fraud from Enron Data\n",
    "### - Marty VanHoof"
   ]
  },
  {
   "cell_type": "markdown",
   "metadata": {},
   "source": [
    "## Introduction\n",
    "\n",
    "Founded in 1985, Enron was one of the world's major electricity, natural gas, communications and pulp and paper companies.  Enron was named \"America's Most Innovative Company\" for six consecutive years by *Fortune* magazine.  Much of this apparent success, though, was due to systematic and elaborate accounting fraud and corruption.  By the use of accounting loopholes, special purpose entities, and poor financial reporting, they were able to hide billions of dollars in debt from failed deals and projects.  By 2002, it had collapsed into bankruptcy, and many executives at Enron would later be indicted and some of them sent to prison.  In the resulting investigation, a large amount of typically confidential information entered into the public record.  This included a large database of emails known as the *Enron Corpus*, and also detailed financial data for top executives.  \n",
    "\n",
    "The purpose of this project is to try to probe this financial and email data using machine learning techniques in order to attempt to identify persons of interest (POI) in the Enron scandal.  POIs are individuals who were indicted, reached a settlement or plea deal with the government, or testified in exchange for prosecution immunity.  This report details the following process:\n",
    "- [data exploration and outlier removal](#exploration)\n",
    "- [initial classifier estimation](#initial)\n",
    "- [feature engineering](#engineering)\n",
    "- [feature selection](#selection)"
   ]
  },
  {
   "cell_type": "code",
   "execution_count": 1,
   "metadata": {
    "collapsed": true
   },
   "outputs": [],
   "source": [
    "import pickle\n",
    "import pandas as pd\n",
    "import numpy as np\n",
    "import matplotlib.pyplot as plt\n",
    "from IPython.display import display\n",
    "%matplotlib inline\n",
    "import warnings\n",
    "warnings.filterwarnings('ignore')"
   ]
  },
  {
   "cell_type": "markdown",
   "metadata": {},
   "source": [
    "<a id='exploration'></a>\n",
    "## Data Exploration / Outlier Removal\n",
    "\n",
    "We begin by doing some exploratory data analysis (EDA) in order to get a better understanding of the dataset and remove a few outliers.  The Enron email and financial data has been preprocessed and combined into a Python dictionary, where each key-value pair in the dictionary corresponds to one person.  The dictionary key is the person's name, and the value is another dictionary, which contains the names of all the features and their values for that person. \n",
    "\n",
    "In order to make our EDA easier, we will use the Python library Pandas to first transform our Python dictionary into a Pandas dataframe."
   ]
  },
  {
   "cell_type": "code",
   "execution_count": 2,
   "metadata": {
    "collapsed": true,
    "scrolled": false
   },
   "outputs": [],
   "source": [
    "# load the dictionary containing the dataset\n",
    "with open('enron_dataset.pkl', 'rb') as data_file:\n",
    "    data_dict = pickle.load(data_file)\n",
    "    \n",
    "# create a dataframe from data_dict and set the index column to employees\n",
    "df = pd.DataFrame.from_dict(data_dict, orient='index')\n",
    "\n",
    "# coerce numeric values into floats and convert NaN values to 0\n",
    "df = df.apply(lambda x: pd.to_numeric(x, errors='coerce'))\n",
    "df.fillna(0, inplace=True)"
   ]
  },
  {
   "cell_type": "markdown",
   "metadata": {},
   "source": [
    "Below are the first 5 rows of our dataset.  The row observations correspond to Enron employees and the columns are the features (the email and financial information for the employee).  There were many missing values in the original financial dataset and these values were encoded in the Python dictionary as 'NaN'.  These NaN values are transformed to 0 in the dataframe."
   ]
  },
  {
   "cell_type": "code",
   "execution_count": 3,
   "metadata": {},
   "outputs": [
    {
     "data": {
      "text/html": [
       "<div>\n",
       "<style>\n",
       "    .dataframe thead tr:only-child th {\n",
       "        text-align: right;\n",
       "    }\n",
       "\n",
       "    .dataframe thead th {\n",
       "        text-align: left;\n",
       "    }\n",
       "\n",
       "    .dataframe tbody tr th {\n",
       "        vertical-align: top;\n",
       "    }\n",
       "</style>\n",
       "<table border=\"1\" class=\"dataframe\">\n",
       "  <thead>\n",
       "    <tr style=\"text-align: right;\">\n",
       "      <th></th>\n",
       "      <th>salary</th>\n",
       "      <th>to_messages</th>\n",
       "      <th>deferral_payments</th>\n",
       "      <th>total_payments</th>\n",
       "      <th>loan_advances</th>\n",
       "      <th>bonus</th>\n",
       "      <th>email_address</th>\n",
       "      <th>restricted_stock_deferred</th>\n",
       "      <th>deferred_income</th>\n",
       "      <th>total_stock_value</th>\n",
       "      <th>...</th>\n",
       "      <th>from_poi_to_this_person</th>\n",
       "      <th>exercised_stock_options</th>\n",
       "      <th>from_messages</th>\n",
       "      <th>other</th>\n",
       "      <th>from_this_person_to_poi</th>\n",
       "      <th>poi</th>\n",
       "      <th>long_term_incentive</th>\n",
       "      <th>shared_receipt_with_poi</th>\n",
       "      <th>restricted_stock</th>\n",
       "      <th>director_fees</th>\n",
       "    </tr>\n",
       "  </thead>\n",
       "  <tbody>\n",
       "    <tr>\n",
       "      <th>ALLEN PHILLIP K</th>\n",
       "      <td>201955.0</td>\n",
       "      <td>2902.0</td>\n",
       "      <td>2869717.0</td>\n",
       "      <td>4484442.0</td>\n",
       "      <td>0.0</td>\n",
       "      <td>4175000.0</td>\n",
       "      <td>0.0</td>\n",
       "      <td>-126027.0</td>\n",
       "      <td>-3081055.0</td>\n",
       "      <td>1729541.0</td>\n",
       "      <td>...</td>\n",
       "      <td>47.0</td>\n",
       "      <td>1729541.0</td>\n",
       "      <td>2195.0</td>\n",
       "      <td>152.0</td>\n",
       "      <td>65.0</td>\n",
       "      <td>False</td>\n",
       "      <td>304805.0</td>\n",
       "      <td>1407.0</td>\n",
       "      <td>126027.0</td>\n",
       "      <td>0.0</td>\n",
       "    </tr>\n",
       "    <tr>\n",
       "      <th>BADUM JAMES P</th>\n",
       "      <td>0.0</td>\n",
       "      <td>0.0</td>\n",
       "      <td>178980.0</td>\n",
       "      <td>182466.0</td>\n",
       "      <td>0.0</td>\n",
       "      <td>0.0</td>\n",
       "      <td>0.0</td>\n",
       "      <td>0.0</td>\n",
       "      <td>0.0</td>\n",
       "      <td>257817.0</td>\n",
       "      <td>...</td>\n",
       "      <td>0.0</td>\n",
       "      <td>257817.0</td>\n",
       "      <td>0.0</td>\n",
       "      <td>0.0</td>\n",
       "      <td>0.0</td>\n",
       "      <td>False</td>\n",
       "      <td>0.0</td>\n",
       "      <td>0.0</td>\n",
       "      <td>0.0</td>\n",
       "      <td>0.0</td>\n",
       "    </tr>\n",
       "    <tr>\n",
       "      <th>BANNANTINE JAMES M</th>\n",
       "      <td>477.0</td>\n",
       "      <td>566.0</td>\n",
       "      <td>0.0</td>\n",
       "      <td>916197.0</td>\n",
       "      <td>0.0</td>\n",
       "      <td>0.0</td>\n",
       "      <td>0.0</td>\n",
       "      <td>-560222.0</td>\n",
       "      <td>-5104.0</td>\n",
       "      <td>5243487.0</td>\n",
       "      <td>...</td>\n",
       "      <td>39.0</td>\n",
       "      <td>4046157.0</td>\n",
       "      <td>29.0</td>\n",
       "      <td>864523.0</td>\n",
       "      <td>0.0</td>\n",
       "      <td>False</td>\n",
       "      <td>0.0</td>\n",
       "      <td>465.0</td>\n",
       "      <td>1757552.0</td>\n",
       "      <td>0.0</td>\n",
       "    </tr>\n",
       "    <tr>\n",
       "      <th>BAXTER JOHN C</th>\n",
       "      <td>267102.0</td>\n",
       "      <td>0.0</td>\n",
       "      <td>1295738.0</td>\n",
       "      <td>5634343.0</td>\n",
       "      <td>0.0</td>\n",
       "      <td>1200000.0</td>\n",
       "      <td>0.0</td>\n",
       "      <td>0.0</td>\n",
       "      <td>-1386055.0</td>\n",
       "      <td>10623258.0</td>\n",
       "      <td>...</td>\n",
       "      <td>0.0</td>\n",
       "      <td>6680544.0</td>\n",
       "      <td>0.0</td>\n",
       "      <td>2660303.0</td>\n",
       "      <td>0.0</td>\n",
       "      <td>False</td>\n",
       "      <td>1586055.0</td>\n",
       "      <td>0.0</td>\n",
       "      <td>3942714.0</td>\n",
       "      <td>0.0</td>\n",
       "    </tr>\n",
       "    <tr>\n",
       "      <th>BAY FRANKLIN R</th>\n",
       "      <td>239671.0</td>\n",
       "      <td>0.0</td>\n",
       "      <td>260455.0</td>\n",
       "      <td>827696.0</td>\n",
       "      <td>0.0</td>\n",
       "      <td>400000.0</td>\n",
       "      <td>0.0</td>\n",
       "      <td>-82782.0</td>\n",
       "      <td>-201641.0</td>\n",
       "      <td>63014.0</td>\n",
       "      <td>...</td>\n",
       "      <td>0.0</td>\n",
       "      <td>0.0</td>\n",
       "      <td>0.0</td>\n",
       "      <td>69.0</td>\n",
       "      <td>0.0</td>\n",
       "      <td>False</td>\n",
       "      <td>0.0</td>\n",
       "      <td>0.0</td>\n",
       "      <td>145796.0</td>\n",
       "      <td>0.0</td>\n",
       "    </tr>\n",
       "  </tbody>\n",
       "</table>\n",
       "<p>5 rows × 21 columns</p>\n",
       "</div>"
      ],
      "text/plain": [
       "                      salary  to_messages  deferral_payments  total_payments  \\\n",
       "ALLEN PHILLIP K     201955.0       2902.0          2869717.0       4484442.0   \n",
       "BADUM JAMES P            0.0          0.0           178980.0        182466.0   \n",
       "BANNANTINE JAMES M     477.0        566.0                0.0        916197.0   \n",
       "BAXTER JOHN C       267102.0          0.0          1295738.0       5634343.0   \n",
       "BAY FRANKLIN R      239671.0          0.0           260455.0        827696.0   \n",
       "\n",
       "                    loan_advances      bonus  email_address  \\\n",
       "ALLEN PHILLIP K               0.0  4175000.0            0.0   \n",
       "BADUM JAMES P                 0.0        0.0            0.0   \n",
       "BANNANTINE JAMES M            0.0        0.0            0.0   \n",
       "BAXTER JOHN C                 0.0  1200000.0            0.0   \n",
       "BAY FRANKLIN R                0.0   400000.0            0.0   \n",
       "\n",
       "                    restricted_stock_deferred  deferred_income  \\\n",
       "ALLEN PHILLIP K                     -126027.0       -3081055.0   \n",
       "BADUM JAMES P                             0.0              0.0   \n",
       "BANNANTINE JAMES M                  -560222.0          -5104.0   \n",
       "BAXTER JOHN C                             0.0       -1386055.0   \n",
       "BAY FRANKLIN R                       -82782.0        -201641.0   \n",
       "\n",
       "                    total_stock_value      ...        from_poi_to_this_person  \\\n",
       "ALLEN PHILLIP K             1729541.0      ...                           47.0   \n",
       "BADUM JAMES P                257817.0      ...                            0.0   \n",
       "BANNANTINE JAMES M          5243487.0      ...                           39.0   \n",
       "BAXTER JOHN C              10623258.0      ...                            0.0   \n",
       "BAY FRANKLIN R                63014.0      ...                            0.0   \n",
       "\n",
       "                    exercised_stock_options  from_messages      other  \\\n",
       "ALLEN PHILLIP K                   1729541.0         2195.0      152.0   \n",
       "BADUM JAMES P                      257817.0            0.0        0.0   \n",
       "BANNANTINE JAMES M                4046157.0           29.0   864523.0   \n",
       "BAXTER JOHN C                     6680544.0            0.0  2660303.0   \n",
       "BAY FRANKLIN R                          0.0            0.0       69.0   \n",
       "\n",
       "                    from_this_person_to_poi    poi  long_term_incentive  \\\n",
       "ALLEN PHILLIP K                        65.0  False             304805.0   \n",
       "BADUM JAMES P                           0.0  False                  0.0   \n",
       "BANNANTINE JAMES M                      0.0  False                  0.0   \n",
       "BAXTER JOHN C                           0.0  False            1586055.0   \n",
       "BAY FRANKLIN R                          0.0  False                  0.0   \n",
       "\n",
       "                    shared_receipt_with_poi  restricted_stock  director_fees  \n",
       "ALLEN PHILLIP K                      1407.0          126027.0            0.0  \n",
       "BADUM JAMES P                           0.0               0.0            0.0  \n",
       "BANNANTINE JAMES M                    465.0         1757552.0            0.0  \n",
       "BAXTER JOHN C                           0.0         3942714.0            0.0  \n",
       "BAY FRANKLIN R                          0.0          145796.0            0.0  \n",
       "\n",
       "[5 rows x 21 columns]"
      ]
     },
     "execution_count": 3,
     "metadata": {},
     "output_type": "execute_result"
    }
   ],
   "source": [
    "df.head()"
   ]
  },
  {
   "cell_type": "markdown",
   "metadata": {},
   "source": [
    "### Some Dataset Characteristics"
   ]
  },
  {
   "cell_type": "code",
   "execution_count": 4,
   "metadata": {
    "scrolled": false
   },
   "outputs": [
    {
     "name": "stdout",
     "output_type": "stream",
     "text": [
      "number of data points:  146\n",
      "number of features:  21\n",
      "number of POIs:  18\n",
      "number of non POIs:  128\n"
     ]
    }
   ],
   "source": [
    "print('number of data points: ', df.shape[0])\n",
    "print('number of features: ', df.shape[1])\n",
    "print('number of POIs: ', df.query('poi == True').shape[0])\n",
    "print('number of non POIs: ', df.query('poi == False').shape[0])"
   ]
  },
  {
   "cell_type": "markdown",
   "metadata": {},
   "source": [
    "Below are the features with missing values (zeros) and the number of missing values for each feature.  We exclude the email addresses since they don't provide useful information and were all converted to zeros in the dataframe."
   ]
  },
  {
   "cell_type": "code",
   "execution_count": 5,
   "metadata": {
    "scrolled": false
   },
   "outputs": [
    {
     "data": {
      "text/plain": [
       "salary                        51\n",
       "to_messages                   60\n",
       "deferral_payments            107\n",
       "total_payments                21\n",
       "loan_advances                142\n",
       "bonus                         64\n",
       "restricted_stock_deferred    128\n",
       "deferred_income               97\n",
       "total_stock_value             20\n",
       "expenses                      51\n",
       "from_poi_to_this_person       72\n",
       "exercised_stock_options       44\n",
       "from_messages                 60\n",
       "other                         53\n",
       "from_this_person_to_poi       80\n",
       "poi                          128\n",
       "long_term_incentive           80\n",
       "shared_receipt_with_poi       60\n",
       "restricted_stock              36\n",
       "director_fees                129\n",
       "dtype: int64"
      ]
     },
     "execution_count": 5,
     "metadata": {},
     "output_type": "execute_result"
    }
   ],
   "source": [
    "# print the number of missing values (zeros) for each feature except 'email_address'\n",
    "zero_counts = (~df.astype(bool)).sum(axis=0)\n",
    "zero_counts.drop('email_address')"
   ]
  },
  {
   "cell_type": "markdown",
   "metadata": {},
   "source": [
    "### Outliers\n",
    "\n",
    "Now we will remove a few outliers from the dataset.  Since the dataset is quite small, we should be conservative in removing outliers.  Also, due to the nature of the financial data, outliers such as very larges salaries, bonuses, etc, can be a signal that a particular individual is a POI, so we won't remove any of these (except for the 'TOTAL' row mentioned next). \n",
    "\n",
    "Statistically, an outlier is defined to be an observation that is below the first quartile $Q_1$ or above the third quartile $Q_3$ by more than 1.5 times the *interquartile range*, which is $Q_3 - Q_1$.  More specifically, let \n",
    "\n",
    "$$ IQR = Q_3 - Q_1 $$\n",
    "\n",
    "be the interquartile range.  Then any data point $x$ for which\n",
    "\n",
    "$$ x \\leq Q_1 - 1.5 \\cdot IQR \\quad \\textrm{or} \\quad x \\geq Q_3 + 1.5 \\cdot IQR $$\n",
    "\n",
    "can be considered an outlier.  As mentioned above, outliers of this sort can be indicative of persons of interest so we should be very careful about removing them.  In the code below, we will only look for outliers in the upper range."
   ]
  },
  {
   "cell_type": "code",
   "execution_count": 6,
   "metadata": {},
   "outputs": [
    {
     "data": {
      "text/html": [
       "<div>\n",
       "<style>\n",
       "    .dataframe thead tr:only-child th {\n",
       "        text-align: right;\n",
       "    }\n",
       "\n",
       "    .dataframe thead th {\n",
       "        text-align: left;\n",
       "    }\n",
       "\n",
       "    .dataframe tbody tr th {\n",
       "        vertical-align: top;\n",
       "    }\n",
       "</style>\n",
       "<table border=\"1\" class=\"dataframe\">\n",
       "  <thead>\n",
       "    <tr style=\"text-align: right;\">\n",
       "      <th></th>\n",
       "      <th>outlier_count</th>\n",
       "      <th>poi</th>\n",
       "    </tr>\n",
       "  </thead>\n",
       "  <tbody>\n",
       "    <tr>\n",
       "      <th>LAY KENNETH L</th>\n",
       "      <td>15</td>\n",
       "      <td>True</td>\n",
       "    </tr>\n",
       "    <tr>\n",
       "      <th>FREVERT MARK A</th>\n",
       "      <td>14</td>\n",
       "      <td>False</td>\n",
       "    </tr>\n",
       "    <tr>\n",
       "      <th>WHALLEY LAWRENCE G</th>\n",
       "      <td>13</td>\n",
       "      <td>False</td>\n",
       "    </tr>\n",
       "    <tr>\n",
       "      <th>SKILLING JEFFREY K</th>\n",
       "      <td>13</td>\n",
       "      <td>True</td>\n",
       "    </tr>\n",
       "    <tr>\n",
       "      <th>TOTAL</th>\n",
       "      <td>12</td>\n",
       "      <td>False</td>\n",
       "    </tr>\n",
       "    <tr>\n",
       "      <th>DELAINEY DAVID W</th>\n",
       "      <td>12</td>\n",
       "      <td>True</td>\n",
       "    </tr>\n",
       "    <tr>\n",
       "      <th>LAVORATO JOHN J</th>\n",
       "      <td>10</td>\n",
       "      <td>False</td>\n",
       "    </tr>\n",
       "  </tbody>\n",
       "</table>\n",
       "</div>"
      ],
      "text/plain": [
       "                    outlier_count    poi\n",
       "LAY KENNETH L                  15   True\n",
       "FREVERT MARK A                 14  False\n",
       "WHALLEY LAWRENCE G             13  False\n",
       "SKILLING JEFFREY K             13   True\n",
       "TOTAL                          12  False\n",
       "DELAINEY DAVID W               12   True\n",
       "LAVORATO JOHN J                10  False"
      ]
     },
     "metadata": {},
     "output_type": "display_data"
    }
   ],
   "source": [
    "# find the individuals with 10 or more outlier features in the upper range\n",
    "Q1, Q3 = df.quantile(0.25), df.quantile(0.75) \n",
    "IQR = Q3 - Q1\n",
    "outliers = df[df > Q1 + 1.5*IQR]\n",
    "outlier_counts = outliers.count(axis=1).sort_values(ascending=False).head(7)\n",
    "outlier_counts = outlier_counts.to_frame(name='outlier_count')\n",
    "names = list(outlier_counts.index)\n",
    "outlier_counts['poi'] = df.loc[names].poi\n",
    "display(outlier_counts)"
   ]
  },
  {
   "cell_type": "markdown",
   "metadata": {},
   "source": [
    "Using this information, we will remove Mark Frevert, Lawrence Whalley, and John Lavorato.  These people are not persons of interest even though they seem to have an unusually high number of outlier features.  \n",
    "\n",
    "The TOTAL row is also an anomaly.  The Enron financial data comes from a PDF file called [enron61702insiderpay.pdf](enron61702insiderpay.pdf), which contains a row of totals for each financial feature, and this row was read into the Python dictionary (and thus in the dataframe) as an individual observation where it really doesn't belong.  We can get a good view of this outlier from a scatterplot of salaries and bonuses of Enron employees.  This outlier should really be removed because it will throw off our predictions when we try to fit models to the data."
   ]
  },
  {
   "cell_type": "code",
   "execution_count": 7,
   "metadata": {},
   "outputs": [
    {
     "data": {
      "image/png": "[encoded data removed]",
      "text/plain": [
       "<matplotlib.figure.Figure at 0x118674b38>"
      ]
     },
     "metadata": {},
     "output_type": "display_data"
    }
   ],
   "source": [
    "df.plot.scatter(x='salary', y='bonus', color='blue',\n",
    "                title='Plot of Salary and Bonus (with outlier)');"
   ]
  },
  {
   "cell_type": "markdown",
   "metadata": {},
   "source": [
    "### Rows containing all zeros\n",
    "\n",
    "We should also check for observations that contain all zeros, and we can see that this person 'LOCKHART EUGENE E' doesn't have any records.  Finally, if we examine all the names in the dataframe there is one that doesn't seem to belong:  'THE TRAVEL AGENCY IN THE PARK'.  This is probably not a person, so we will remove this observation as well."
   ]
  },
  {
   "cell_type": "code",
   "execution_count": 8,
   "metadata": {
    "scrolled": false
   },
   "outputs": [
    {
     "data": {
      "text/html": [
       "<div>\n",
       "<style>\n",
       "    .dataframe thead tr:only-child th {\n",
       "        text-align: right;\n",
       "    }\n",
       "\n",
       "    .dataframe thead th {\n",
       "        text-align: left;\n",
       "    }\n",
       "\n",
       "    .dataframe tbody tr th {\n",
       "        vertical-align: top;\n",
       "    }\n",
       "</style>\n",
       "<table border=\"1\" class=\"dataframe\">\n",
       "  <thead>\n",
       "    <tr style=\"text-align: right;\">\n",
       "      <th></th>\n",
       "      <th>salary</th>\n",
       "      <th>to_messages</th>\n",
       "      <th>deferral_payments</th>\n",
       "      <th>total_payments</th>\n",
       "      <th>loan_advances</th>\n",
       "      <th>bonus</th>\n",
       "      <th>email_address</th>\n",
       "      <th>restricted_stock_deferred</th>\n",
       "      <th>deferred_income</th>\n",
       "      <th>total_stock_value</th>\n",
       "      <th>...</th>\n",
       "      <th>from_poi_to_this_person</th>\n",
       "      <th>exercised_stock_options</th>\n",
       "      <th>from_messages</th>\n",
       "      <th>other</th>\n",
       "      <th>from_this_person_to_poi</th>\n",
       "      <th>poi</th>\n",
       "      <th>long_term_incentive</th>\n",
       "      <th>shared_receipt_with_poi</th>\n",
       "      <th>restricted_stock</th>\n",
       "      <th>director_fees</th>\n",
       "    </tr>\n",
       "  </thead>\n",
       "  <tbody>\n",
       "    <tr>\n",
       "      <th>LOCKHART EUGENE E</th>\n",
       "      <td>0.0</td>\n",
       "      <td>0.0</td>\n",
       "      <td>0.0</td>\n",
       "      <td>0.0</td>\n",
       "      <td>0.0</td>\n",
       "      <td>0.0</td>\n",
       "      <td>0.0</td>\n",
       "      <td>0.0</td>\n",
       "      <td>0.0</td>\n",
       "      <td>0.0</td>\n",
       "      <td>...</td>\n",
       "      <td>0.0</td>\n",
       "      <td>0.0</td>\n",
       "      <td>0.0</td>\n",
       "      <td>0.0</td>\n",
       "      <td>0.0</td>\n",
       "      <td>False</td>\n",
       "      <td>0.0</td>\n",
       "      <td>0.0</td>\n",
       "      <td>0.0</td>\n",
       "      <td>0.0</td>\n",
       "    </tr>\n",
       "  </tbody>\n",
       "</table>\n",
       "<p>1 rows × 21 columns</p>\n",
       "</div>"
      ],
      "text/plain": [
       "                   salary  to_messages  deferral_payments  total_payments  \\\n",
       "LOCKHART EUGENE E     0.0          0.0                0.0             0.0   \n",
       "\n",
       "                   loan_advances  bonus  email_address  \\\n",
       "LOCKHART EUGENE E            0.0    0.0            0.0   \n",
       "\n",
       "                   restricted_stock_deferred  deferred_income  \\\n",
       "LOCKHART EUGENE E                        0.0              0.0   \n",
       "\n",
       "                   total_stock_value      ...        from_poi_to_this_person  \\\n",
       "LOCKHART EUGENE E                0.0      ...                            0.0   \n",
       "\n",
       "                   exercised_stock_options  from_messages  other  \\\n",
       "LOCKHART EUGENE E                      0.0            0.0    0.0   \n",
       "\n",
       "                   from_this_person_to_poi    poi  long_term_incentive  \\\n",
       "LOCKHART EUGENE E                      0.0  False                  0.0   \n",
       "\n",
       "                   shared_receipt_with_poi  restricted_stock  director_fees  \n",
       "LOCKHART EUGENE E                      0.0               0.0            0.0  \n",
       "\n",
       "[1 rows x 21 columns]"
      ]
     },
     "metadata": {},
     "output_type": "display_data"
    },
    {
     "data": {
      "text/html": [
       "<div>\n",
       "<style>\n",
       "    .dataframe thead tr:only-child th {\n",
       "        text-align: right;\n",
       "    }\n",
       "\n",
       "    .dataframe thead th {\n",
       "        text-align: left;\n",
       "    }\n",
       "\n",
       "    .dataframe tbody tr th {\n",
       "        vertical-align: top;\n",
       "    }\n",
       "</style>\n",
       "<table border=\"1\" class=\"dataframe\">\n",
       "  <thead>\n",
       "    <tr style=\"text-align: right;\">\n",
       "      <th></th>\n",
       "      <th>salary</th>\n",
       "      <th>to_messages</th>\n",
       "      <th>deferral_payments</th>\n",
       "      <th>total_payments</th>\n",
       "      <th>loan_advances</th>\n",
       "      <th>bonus</th>\n",
       "      <th>email_address</th>\n",
       "      <th>restricted_stock_deferred</th>\n",
       "      <th>deferred_income</th>\n",
       "      <th>total_stock_value</th>\n",
       "      <th>...</th>\n",
       "      <th>from_poi_to_this_person</th>\n",
       "      <th>exercised_stock_options</th>\n",
       "      <th>from_messages</th>\n",
       "      <th>other</th>\n",
       "      <th>from_this_person_to_poi</th>\n",
       "      <th>poi</th>\n",
       "      <th>long_term_incentive</th>\n",
       "      <th>shared_receipt_with_poi</th>\n",
       "      <th>restricted_stock</th>\n",
       "      <th>director_fees</th>\n",
       "    </tr>\n",
       "  </thead>\n",
       "  <tbody>\n",
       "    <tr>\n",
       "      <th>THE TRAVEL AGENCY IN THE PARK</th>\n",
       "      <td>0.0</td>\n",
       "      <td>0.0</td>\n",
       "      <td>0.0</td>\n",
       "      <td>362096.0</td>\n",
       "      <td>0.0</td>\n",
       "      <td>0.0</td>\n",
       "      <td>0.0</td>\n",
       "      <td>0.0</td>\n",
       "      <td>0.0</td>\n",
       "      <td>0.0</td>\n",
       "      <td>...</td>\n",
       "      <td>0.0</td>\n",
       "      <td>0.0</td>\n",
       "      <td>0.0</td>\n",
       "      <td>362096.0</td>\n",
       "      <td>0.0</td>\n",
       "      <td>False</td>\n",
       "      <td>0.0</td>\n",
       "      <td>0.0</td>\n",
       "      <td>0.0</td>\n",
       "      <td>0.0</td>\n",
       "    </tr>\n",
       "  </tbody>\n",
       "</table>\n",
       "<p>1 rows × 21 columns</p>\n",
       "</div>"
      ],
      "text/plain": [
       "                               salary  to_messages  deferral_payments  \\\n",
       "THE TRAVEL AGENCY IN THE PARK     0.0          0.0                0.0   \n",
       "\n",
       "                               total_payments  loan_advances  bonus  \\\n",
       "THE TRAVEL AGENCY IN THE PARK        362096.0            0.0    0.0   \n",
       "\n",
       "                               email_address  restricted_stock_deferred  \\\n",
       "THE TRAVEL AGENCY IN THE PARK            0.0                        0.0   \n",
       "\n",
       "                               deferred_income  total_stock_value  \\\n",
       "THE TRAVEL AGENCY IN THE PARK              0.0                0.0   \n",
       "\n",
       "                                   ...        from_poi_to_this_person  \\\n",
       "THE TRAVEL AGENCY IN THE PARK      ...                            0.0   \n",
       "\n",
       "                               exercised_stock_options  from_messages  \\\n",
       "THE TRAVEL AGENCY IN THE PARK                      0.0            0.0   \n",
       "\n",
       "                                  other  from_this_person_to_poi    poi  \\\n",
       "THE TRAVEL AGENCY IN THE PARK  362096.0                      0.0  False   \n",
       "\n",
       "                               long_term_incentive  shared_receipt_with_poi  \\\n",
       "THE TRAVEL AGENCY IN THE PARK                  0.0                      0.0   \n",
       "\n",
       "                               restricted_stock  director_fees  \n",
       "THE TRAVEL AGENCY IN THE PARK               0.0            0.0  \n",
       "\n",
       "[1 rows x 21 columns]"
      ]
     },
     "execution_count": 8,
     "metadata": {},
     "output_type": "execute_result"
    }
   ],
   "source": [
    "display(df.loc[(df == 0).all(axis=1)])\n",
    "df[df.index.values == 'THE TRAVEL AGENCY IN THE PARK']"
   ]
  },
  {
   "cell_type": "code",
   "execution_count": 9,
   "metadata": {
    "collapsed": true
   },
   "outputs": [],
   "source": [
    "# remove outliers\n",
    "to_remove = ['FREVERT MARK A', 'LAVORATO JOHN J', 'WHALLEY LAWRENCE G',\n",
    "             'TOTAL', 'LOCKHART EUGENE E', 'THE TRAVEL AGENCY IN THE PARK']  \n",
    "df.drop(to_remove, inplace=True)\n",
    "    \n",
    "while False:\n",
    "    to_remove = ['FREVERT MARK A', 'BAXTER JOHN C', 'LAVORATO JOHN J',\n",
    "                 'WHALLEY LAWRENCE G', 'TOTAL', 'LOCKHART EUGENE E',\n",
    "                 'THE TRAVEL AGENCY IN THE PARK']\n",
    "    df.drop(to_remove, inplace=True)\n",
    "    break"
   ]
  },
  {
   "cell_type": "markdown",
   "metadata": {},
   "source": [
    "<a id='initial'></a>\n",
    "## Initial Classifier Estimation\n",
    "\n",
    "We will start by experimenting with a few different classifiers without worrying about parameter-tuning at this point.  Using the **`test_classifier()`** function in the [tester.py](tester.py) file, we can get an initial idea of the performance of each classifier before we get into tuning the parameters.  We will start by using all the features in the dataset (except email address).  The metrics that we want to optimize are the precision, recall, and the F1 score.\n",
    "\n",
    "Consider the collection of all people in the Enron dataset who the model predicts to be a POI; then the **precision** is the proportion of those people who are actually POIs.  More precisely, if $TP$ is the number of true positives and $FP$ is the number of false positives, then\n",
    "\n",
    "$$\n",
    "\\textrm{precision} = \\frac{TP}{TP + FP}\n",
    "$$\n",
    "\n",
    "Now consider the collection of all people in the Enron dataset who are actually POIs; then the **recall** is the proportion of those individuals who are predicted by the model to be POIs.  If $FN$ is the number of false negatives, then\n",
    "\n",
    "$$\n",
    "\\textrm{recall} = \\frac{TP}{TP + FN}\n",
    "$$\n",
    "\n",
    "The **F1 score** is the harmonic mean of precision and recall and can also be interpreted as a weighted average of precision and recall\n",
    "\n",
    "$$\n",
    "\\textrm{F1 score} = \\frac{2}{\\frac{1}{\\textrm{precision}} + \\frac{1}{\\textrm{recall}}} = \\frac{2 \\cdot \\textrm{precision} \\cdot \\textrm{recall}}{\\textrm{precision} + \\textrm{recall}}\n",
    "$$\n",
    "\n",
    "Note that our dataset is imbalanced, since there are 18 POI versus 128 non POI.  This means that the accuracy score (number of accurate predictions divided by the total number of data points) is not a good metric to use.\n",
    "\n",
    "At this point we should also standardize the data since the financial and email data are measured in different units and on different scales.  We will standardize the data so that it has mean 0 and standard deviation 1. "
   ]
  },
  {
   "cell_type": "code",
   "execution_count": 10,
   "metadata": {
    "collapsed": true
   },
   "outputs": [],
   "source": [
    "from tester import test_classifier\n",
    "from feature_format import featureFormat, targetFeatureSplit\n",
    "from sklearn.naive_bayes import GaussianNB\n",
    "from sklearn.tree import DecisionTreeClassifier\n",
    "from sklearn.linear_model import LogisticRegression\n",
    "from sklearn.neighbors import KNeighborsClassifier\n",
    "from sklearn.model_selection import train_test_split\n",
    "from sklearn.preprocessing import scale\n",
    "\n",
    "# convert the dataframe back into a dictionary\n",
    "data_dict = df.to_dict('index')\n",
    "\n",
    "# get a list of all the features and remove 'email_address'\n",
    "features_list = list(df.columns.values)\n",
    "features_list.remove('email_address')\n",
    "\n",
    "# move 'poi' to the beginning of the list for use by the function\n",
    "# targetFeatureSplit() in feature_format.py\n",
    "features_list.pop(features_list.index('poi'))\n",
    "features_list.insert(0, 'poi')\n",
    "\n",
    "def clf_report(classifier, f_list, d_dict):\n",
    "    ''' \n",
    "    A quick and dirty function that fits a specific classifier then uses 'test_classifier()'\n",
    "    to evaluate the model's performance \n",
    "        \n",
    "    Inputs:\n",
    "    classifier - An sklearn classifier with the default hyperparameters\n",
    "    f_list - A list of features to use\n",
    "    d_dict - A data dictionary where each key-value pair corresponds to one individual\n",
    "    '''\n",
    "    \n",
    "    # Extract features and labels from data_dict\n",
    "    data_array = featureFormat(d_dict, f_list, sort_keys = True)\n",
    "    labels, features = targetFeatureSplit(data_array)\n",
    "    \n",
    "    # Apply feature scaling\n",
    "    features = scale(features)\n",
    "\n",
    "    # Split features and labels into training and testing sets\n",
    "    features_train, features_test, labels_train, labels_test = \\\n",
    "        train_test_split(features, labels, test_size=0.3, random_state=42)\n",
    "    \n",
    "    clf = classifier()\n",
    "    clf.fit(features_train, labels_train)\n",
    "    test_classifier(clf, d_dict, f_list)"
   ]
  },
  {
   "cell_type": "markdown",
   "metadata": {
    "collapsed": true
   },
   "source": [
    "### GaussianNB"
   ]
  },
  {
   "cell_type": "code",
   "execution_count": 11,
   "metadata": {},
   "outputs": [
    {
     "name": "stdout",
     "output_type": "stream",
     "text": [
      "Accuracy: 0.75721\tPrecision: 0.25186\tRecall: 0.35500\tF1: 0.29467\tF2: 0.32813\n",
      "Total predictions: 14000\tTrue positives:  710\tFalse positives: 2109\n",
      "False negatives: 1290\tTrue negatives: 9891\n",
      "\n"
     ]
    }
   ],
   "source": [
    "clf_report(GaussianNB, features_list, data_dict)"
   ]
  },
  {
   "cell_type": "markdown",
   "metadata": {
    "collapsed": true
   },
   "source": [
    "### DecisionTreeClassifier"
   ]
  },
  {
   "cell_type": "code",
   "execution_count": 12,
   "metadata": {},
   "outputs": [
    {
     "name": "stdout",
     "output_type": "stream",
     "text": [
      "Accuracy: 0.82071\tPrecision: 0.35226\tRecall: 0.30400\tF1: 0.32636\tF2: 0.31256\n",
      "Total predictions: 14000\tTrue positives:  608\tFalse positives: 1118\n",
      "False negatives: 1392\tTrue negatives: 10882\n",
      "\n"
     ]
    }
   ],
   "source": [
    "clf_report(DecisionTreeClassifier, features_list, data_dict)"
   ]
  },
  {
   "cell_type": "markdown",
   "metadata": {},
   "source": [
    "### LogisticRegression"
   ]
  },
  {
   "cell_type": "code",
   "execution_count": 13,
   "metadata": {},
   "outputs": [
    {
     "name": "stdout",
     "output_type": "stream",
     "text": [
      "Accuracy: 0.78636\tPrecision: 0.21572\tRecall: 0.18800\tF1: 0.20091\tF2: 0.19296\n",
      "Total predictions: 14000\tTrue positives:  376\tFalse positives: 1367\n",
      "False negatives: 1624\tTrue negatives: 10633\n",
      "\n"
     ]
    }
   ],
   "source": [
    "clf_report(LogisticRegression, features_list, data_dict)"
   ]
  },
  {
   "cell_type": "markdown",
   "metadata": {},
   "source": [
    "### KNeighborsClassifier"
   ]
  },
  {
   "cell_type": "code",
   "execution_count": 14,
   "metadata": {},
   "outputs": [
    {
     "name": "stdout",
     "output_type": "stream",
     "text": [
      "Accuracy: 0.87693\tPrecision: 0.70102\tRecall: 0.24150\tF1: 0.35924\tF2: 0.27794\n",
      "Total predictions: 14000\tTrue positives:  483\tFalse positives:  206\n",
      "False negatives: 1517\tTrue negatives: 11794\n",
      "\n"
     ]
    }
   ],
   "source": [
    "clf_report(KNeighborsClassifier, features_list, data_dict)"
   ]
  },
  {
   "cell_type": "markdown",
   "metadata": {},
   "source": [
    "<a id='engineering'></a>\n",
    "## Feature Engineering\n",
    "\n",
    "The first two features we will create are called **fraction_of_emails_to_poi** and **fraction_of_emails_from_poi**.  The hypothesis here is that persons of interest may have stronger email connections between each other, ie. that POIs send emails to other POIs at a higher rate than for the general population.  The feature **fraction_of_emails_to_poi** is the proportion of all messages from a particular person that are sent to a POI, and the feature **fraction_of_emails_from_poi** is the proportion of all messages to a particular person that are sent from a POI.\n",
    "\n",
    "If we plot the features with POI in red and non POI in blue, then there appears to be some clustering in the POIs.  Specifically, if the proportion of an individual's emails from/to a POI are below a certain threshold, then we can be confident that this individual is not a POI (the converse is not true, however).  This suggests that the above hypothesis has some merit, and we will see that these two new features will improve algorithm performance."
   ]
  },
  {
   "cell_type": "code",
   "execution_count": 15,
   "metadata": {
    "scrolled": false
   },
   "outputs": [
    {
     "data": {
      "image/png": "[encoded data removed]",
      "text/plain": [
       "<matplotlib.figure.Figure at 0x118663748>"
      ]
     },
     "metadata": {},
     "output_type": "display_data"
    }
   ],
   "source": [
    "# create the two new features mentioned above\n",
    "df['fraction_of_emails_to_poi'] = (df.from_this_person_to_poi / df.from_messages).fillna(0)\n",
    "df['fraction_of_emails_from_poi'] = (df.from_poi_to_this_person / df.to_messages).fillna(0)\n",
    "\n",
    "# split the data into poi and non-poi\n",
    "df_poi = df.query('poi == True')\n",
    "df_nonpoi = df.query('poi == False')\n",
    "\n",
    "# plot the new features\n",
    "plt.scatter(df_poi.fraction_of_emails_from_poi, df_poi.fraction_of_emails_to_poi,\n",
    "            color='red', label='poi')\n",
    "plt.scatter(df_nonpoi.fraction_of_emails_from_poi, df_nonpoi.fraction_of_emails_to_poi,\n",
    "            color='blue', label='non-poi')\n",
    "plt.xlabel('fraction of emails from poi')\n",
    "plt.ylabel('fraction of emails to poi')\n",
    "plt.legend();"
   ]
  },
  {
   "cell_type": "markdown",
   "metadata": {},
   "source": [
    "Some more features we create are:\n",
    "- **fraction_to_from_shared_with_poi**.  The idea here is that the 2 new features above don't incorporate all the possible emails that were shared with a POI via a third party (such as cc emails). To create this new feature, we first look at the sum total of all from messages, to messages, and messages shared with a POI.  Then we take the proportion of all these messages that are either from a POI, to a POI, or shared with a POI.\n",
    "- **fraction_shared_with_poi**.\n",
    "- **bonus_to_salary** and **bonus_to_total**.  Unusually large bonuses in relation to salary and total payments could indicate fraud and might make an individual more likely to be a POI.  If we look at the mean and median of these new features grouped by non-poi/poi, there seems to be a large difference.  We could test whether these differences are statistically significant (my hunch is that they are), but a good model should detect this in the data."
   ]
  },
  {
   "cell_type": "code",
   "execution_count": 16,
   "metadata": {
    "scrolled": false
   },
   "outputs": [
    {
     "data": {
      "text/html": [
       "<div>\n",
       "<style>\n",
       "    .dataframe thead tr:only-child th {\n",
       "        text-align: right;\n",
       "    }\n",
       "\n",
       "    .dataframe thead th {\n",
       "        text-align: left;\n",
       "    }\n",
       "\n",
       "    .dataframe tbody tr th {\n",
       "        vertical-align: top;\n",
       "    }\n",
       "</style>\n",
       "<table border=\"1\" class=\"dataframe\">\n",
       "  <thead>\n",
       "    <tr style=\"text-align: right;\">\n",
       "      <th></th>\n",
       "      <th>bonus_to_salary</th>\n",
       "      <th>bonus_to_total</th>\n",
       "    </tr>\n",
       "    <tr>\n",
       "      <th>poi</th>\n",
       "      <th></th>\n",
       "      <th></th>\n",
       "    </tr>\n",
       "  </thead>\n",
       "  <tbody>\n",
       "    <tr>\n",
       "      <th>False</th>\n",
       "      <td>1.577149</td>\n",
       "      <td>0.258435</td>\n",
       "    </tr>\n",
       "    <tr>\n",
       "      <th>True</th>\n",
       "      <td>4.776032</td>\n",
       "      <td>0.891963</td>\n",
       "    </tr>\n",
       "  </tbody>\n",
       "</table>\n",
       "</div>"
      ],
      "text/plain": [
       "       bonus_to_salary  bonus_to_total\n",
       "poi                                   \n",
       "False         1.577149        0.258435\n",
       "True          4.776032        0.891963"
      ]
     },
     "metadata": {},
     "output_type": "display_data"
    },
    {
     "data": {
      "text/html": [
       "<div>\n",
       "<style>\n",
       "    .dataframe thead tr:only-child th {\n",
       "        text-align: right;\n",
       "    }\n",
       "\n",
       "    .dataframe thead th {\n",
       "        text-align: left;\n",
       "    }\n",
       "\n",
       "    .dataframe tbody tr th {\n",
       "        vertical-align: top;\n",
       "    }\n",
       "</style>\n",
       "<table border=\"1\" class=\"dataframe\">\n",
       "  <thead>\n",
       "    <tr style=\"text-align: right;\">\n",
       "      <th></th>\n",
       "      <th>bonus_to_salary</th>\n",
       "      <th>bonus_to_total</th>\n",
       "    </tr>\n",
       "    <tr>\n",
       "      <th>poi</th>\n",
       "      <th></th>\n",
       "      <th></th>\n",
       "    </tr>\n",
       "  </thead>\n",
       "  <tbody>\n",
       "    <tr>\n",
       "      <th>False</th>\n",
       "      <td>0.387364</td>\n",
       "      <td>0.087175</td>\n",
       "    </tr>\n",
       "    <tr>\n",
       "      <th>True</th>\n",
       "      <td>3.862706</td>\n",
       "      <td>0.535700</td>\n",
       "    </tr>\n",
       "  </tbody>\n",
       "</table>\n",
       "</div>"
      ],
      "text/plain": [
       "       bonus_to_salary  bonus_to_total\n",
       "poi                                   \n",
       "False         0.387364        0.087175\n",
       "True          3.862706        0.535700"
      ]
     },
     "metadata": {},
     "output_type": "display_data"
    }
   ],
   "source": [
    "# create the new features 'fraction_to_from_shared_with_poi', 'fraction_shared_with_poi'\n",
    "total = df.from_messages + df.to_messages + df.shared_receipt_with_poi\n",
    "to_from_shared = df.from_poi_to_this_person + df.from_this_person_to_poi +\\\n",
    "                 df.shared_receipt_with_poi\n",
    "df['fraction_to_from_shared_with_poi'] = (to_from_shared / total).fillna(0)\n",
    "df['fraction_shared_with_poi'] = (df.shared_receipt_with_poi / df.to_messages).fillna(0)\n",
    "\n",
    "# create the new features 'bonus_to_salary' and 'bonus_to_total'\n",
    "df['bonus_to_salary'] = (df.bonus / df.salary).fillna(0)\n",
    "df['bonus_to_total'] = (df.bonus / df.total_payments).fillna(0)\n",
    "\n",
    "# look at the mean and median of these new features, grouped by non-poi/poi\n",
    "display(df.groupby('poi')[['bonus_to_salary', 'bonus_to_total']].mean())\n",
    "display(df.groupby('poi')[['bonus_to_salary', 'bonus_to_total']].median())"
   ]
  },
  {
   "cell_type": "code",
   "execution_count": 17,
   "metadata": {
    "scrolled": false
   },
   "outputs": [],
   "source": [
    "# add new features to features_list\n",
    "new_features_list = features_list + ['fraction_of_emails_to_poi', 'fraction_of_emails_from_poi',\n",
    "                                     'fraction_to_from_shared_with_poi', 'bonus_to_salary',\n",
    "                                     'bonus_to_total', 'fraction_shared_with_poi']\n",
    "\n",
    "# convert df with new features back into a dictionary\n",
    "new_data_dict = df.to_dict('index')"
   ]
  },
  {
   "cell_type": "markdown",
   "metadata": {},
   "source": [
    "<a id='selection'></a>\n",
    "## Feature Selection\n",
    "\n",
    "Univariate feature selection examines each feature individually to determine the strength of the relationship of each feature with the labels.  We can use sklearn's [SelectKBest](http://scikit-learn.org/stable/modules/generated/sklearn.feature_selection.SelectKBest.html) algorithm along with [GridSearchCV](http://scikit-learn.org/stable/modules/generated/sklearn.model_selection.GridSearchCV.html) to select the best features and the optimal number of features according to a certain score.  The scoring is based on a chosen univariate statistical test; the default option is **f_classif**, which performs an Analysis of Variance (ANOVA) F-test between the labels and features.  We will stick with the default option `f_classif`.  \n",
    "\n",
    "In this project we have a binary classification problem, as we are trying to classify individuals as POI or non-POI. The scoring function `f_classif` works more generally.  Suppose we have $n$ classes.  Then for each feature, the training data can be split into $n$ groups, where two observations belong to the same group if and only if they have the same class label.  The ANOVA F-test tests for a statistically significant difference among the group means by analyzing the sample variances.  For a given feature, let $\\overline{X}_1, \\ldots, \\overline{X}_n \\,$ be the sample means for each group.  ANOVA tests the null hypothesis\n",
    "\n",
    "$$ H_0 : \\mu_1 = \\mu_2 = \\cdots = \\mu_n $$\n",
    "\n",
    "that the corresponding population means are the same.  In our particular case, we have $n = 2$."
   ]
  },
  {
   "cell_type": "code",
   "execution_count": 18,
   "metadata": {
    "collapsed": true
   },
   "outputs": [],
   "source": [
    "from sklearn.feature_selection import SelectKBest\n",
    "from sklearn.model_selection import GridSearchCV\n",
    "from sklearn.pipeline import Pipeline\n",
    "from sklearn.preprocessing import StandardScaler\n",
    "from sklearn.model_selection import StratifiedShuffleSplit"
   ]
  },
  {
   "cell_type": "code",
   "execution_count": 54,
   "metadata": {
    "scrolled": false
   },
   "outputs": [],
   "source": [
    "def get_best_features(f_list, scaling=True):\n",
    "\n",
    "    num_features = np.arange(1, len(new_features_list))\n",
    "    data_array = featureFormat(new_data_dict, f_list, sort_keys = True)\n",
    "    labels, features = targetFeatureSplit(data_array)\n",
    "    \n",
    "    # tranformers and final estimator for the pipeline\n",
    "    scaler, kbest, nb_clf = StandardScaler(), SelectKBest(), GaussianNB()\n",
    "    \n",
    "    # create a pipeline with scaling/not scaling, feature selection and a classifier\n",
    "    if scaling:\n",
    "        steps = [('scaling', scaler), ('feature_selection', kbest), ('classifier', nb_clf)]\n",
    "    else:\n",
    "        steps = [('feature_selection', kbest), ('classifier', nb_clf)]\n",
    "    pipe = Pipeline(steps)\n",
    "    \n",
    "    # parameter grid for GridSearchCV\n",
    "    param_grid = dict(feature_selection__k = num_features)\n",
    "    \n",
    "    # StratifiedShuffleSplit for cross validation\n",
    "    cv_sss = StratifiedShuffleSplit(n_splits=100, test_size = 0.3, random_state = 42)\n",
    "    \n",
    "    # setup grid search for feature selection using the above pipeline\n",
    "    grid_search = GridSearchCV(pipe, param_grid, scoring='f1', n_jobs=-1, cv=cv_sss)\n",
    "    \n",
    "    # GridSearchCV will create the train/test splits automatically with StratifiedShuffleSplit\n",
    "    grid_result = grid_search.fit(features, labels)\n",
    "    \n",
    "    # 'named_steps' can access the attributes/methods of a transform object in the pipeline\n",
    "    selector = grid_result.best_estimator_.named_steps['feature_selection']\n",
    "    features_selected = np.array(f_list[1:])[selector.get_support()]\n",
    "\n",
    "    return features_selected, grid_result\n",
    "\n",
    "def display_feature_results(features_selected, grid_result):\n",
    "    '''\n",
    "    Display the results and F scores in a Pandas dataframe\n",
    "    \n",
    "    Inputs:\n",
    "    features_selected - a list or array of features\n",
    "    grid_result - a fitted GridSearchCV object run through a pipeline\n",
    "    '''\n",
    "    selector = grid_result.best_estimator_.named_steps['feature_selection']\n",
    "    feature_scores = selector.scores_[selector.get_support()]\n",
    "    tuples = list(zip(features_selected, feature_scores))\n",
    "    features_df = pd.DataFrame(tuples, columns=['Feature', 'F score'])\n",
    "    features_df.sort_values(by=['F score'], inplace=True, ascending=False)\n",
    "    display(features_df)\n",
    "\n",
    "features_selected = get_best_features(new_features_list, scaling=False)[0]\n",
    "grid_result = get_best_features(new_features_list, scaling=False)[1]"
   ]
  },
  {
   "cell_type": "code",
   "execution_count": 55,
   "metadata": {},
   "outputs": [],
   "source": [
    "nb_clf = grid_result.best_estimator_"
   ]
  },
  {
   "cell_type": "code",
   "execution_count": 56,
   "metadata": {
    "scrolled": false
   },
   "outputs": [
    {
     "data": {
      "text/html": [
       "<div>\n",
       "<style>\n",
       "    .dataframe thead tr:only-child th {\n",
       "        text-align: right;\n",
       "    }\n",
       "\n",
       "    .dataframe thead th {\n",
       "        text-align: left;\n",
       "    }\n",
       "\n",
       "    .dataframe tbody tr th {\n",
       "        vertical-align: top;\n",
       "    }\n",
       "</style>\n",
       "<table border=\"1\" class=\"dataframe\">\n",
       "  <thead>\n",
       "    <tr style=\"text-align: right;\">\n",
       "      <th></th>\n",
       "      <th>Feature</th>\n",
       "      <th>F score</th>\n",
       "    </tr>\n",
       "  </thead>\n",
       "  <tbody>\n",
       "    <tr>\n",
       "      <th>1</th>\n",
       "      <td>bonus</td>\n",
       "      <td>35.578815</td>\n",
       "    </tr>\n",
       "    <tr>\n",
       "      <th>5</th>\n",
       "      <td>exercised_stock_options</td>\n",
       "      <td>26.079999</td>\n",
       "    </tr>\n",
       "    <tr>\n",
       "      <th>3</th>\n",
       "      <td>total_stock_value</td>\n",
       "      <td>25.714754</td>\n",
       "    </tr>\n",
       "    <tr>\n",
       "      <th>0</th>\n",
       "      <td>salary</td>\n",
       "      <td>24.995563</td>\n",
       "    </tr>\n",
       "    <tr>\n",
       "      <th>9</th>\n",
       "      <td>bonus_to_total</td>\n",
       "      <td>20.808199</td>\n",
       "    </tr>\n",
       "    <tr>\n",
       "      <th>8</th>\n",
       "      <td>bonus_to_salary</td>\n",
       "      <td>16.562899</td>\n",
       "    </tr>\n",
       "    <tr>\n",
       "      <th>7</th>\n",
       "      <td>fraction_of_emails_to_poi</td>\n",
       "      <td>16.512128</td>\n",
       "    </tr>\n",
       "    <tr>\n",
       "      <th>2</th>\n",
       "      <td>deferred_income</td>\n",
       "      <td>15.717961</td>\n",
       "    </tr>\n",
       "    <tr>\n",
       "      <th>6</th>\n",
       "      <td>shared_receipt_with_poi</td>\n",
       "      <td>12.299520</td>\n",
       "    </tr>\n",
       "    <tr>\n",
       "      <th>4</th>\n",
       "      <td>from_poi_to_this_person</td>\n",
       "      <td>11.927871</td>\n",
       "    </tr>\n",
       "  </tbody>\n",
       "</table>\n",
       "</div>"
      ],
      "text/plain": [
       "                     Feature    F score\n",
       "1                      bonus  35.578815\n",
       "5    exercised_stock_options  26.079999\n",
       "3          total_stock_value  25.714754\n",
       "0                     salary  24.995563\n",
       "9             bonus_to_total  20.808199\n",
       "8            bonus_to_salary  16.562899\n",
       "7  fraction_of_emails_to_poi  16.512128\n",
       "2            deferred_income  15.717961\n",
       "6    shared_receipt_with_poi  12.299520\n",
       "4    from_poi_to_this_person  11.927871"
      ]
     },
     "metadata": {},
     "output_type": "display_data"
    },
    {
     "name": "stdout",
     "output_type": "stream",
     "text": [
      "Accuracy: 0.86314\tPrecision: 0.52602\tRecall: 0.42450\tF1: 0.46984\tF2: 0.44154\n",
      "Total predictions: 14000\tTrue positives:  849\tFalse positives:  765\n",
      "False negatives: 1151\tTrue negatives: 11235\n",
      "\n"
     ]
    }
   ],
   "source": [
    "display_feature_results(features_selected, grid_result)\n",
    "features_selected = ['poi'] + list(features_selected)\n",
    "test_classifier(nb_clf, new_data_dict, features_selected)"
   ]
  },
  {
   "cell_type": "code",
   "execution_count": null,
   "metadata": {
    "collapsed": true
   },
   "outputs": [],
   "source": []
  }
 ],
 "metadata": {
  "kernelspec": {
   "display_name": "Python 3",
   "language": "python",
   "name": "python3"
  },
  "language_info": {
   "codemirror_mode": {
    "name": "ipython",
    "version": 3
   },
   "file_extension": ".py",
   "mimetype": "text/x-python",
   "name": "python",
   "nbconvert_exporter": "python",
   "pygments_lexer": "ipython3",
   "version": "3.6.1"
  }
 },
 "nbformat": 4,
 "nbformat_minor": 2
}
